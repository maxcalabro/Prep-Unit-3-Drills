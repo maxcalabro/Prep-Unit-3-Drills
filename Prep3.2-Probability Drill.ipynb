{
 "cells": [
  {
   "cell_type": "markdown",
   "metadata": {},
   "source": [
    "1)\n",
    "HTTH: (1/2)(1/2)(1/2)(1/2) = 1/16\n",
    "HHHH: Same = 1/16\n",
    "TTHH: Same = 1/16\n",
    "\n",
    "2)\n",
    "24 Women, 21 Men\n",
    "Probability of (not Man) = 24/45\n",
    "\n",
    "3)\n",
    "P(travel) * P(crash) = 0.10 * 0.00005 = 0.000005 or .0005%\n",
    "\n",
    "4)\n",
    "Only certain types of users will fill out a survey.\n",
    "Users who click more (which is presumable related to spending more time on the website) are more likely to be asked to fill out the survey.\n"
   ]
  }
 ],
 "metadata": {
  "kernelspec": {
   "display_name": "Python 3",
   "language": "python",
   "name": "python3"
  },
  "language_info": {
   "codemirror_mode": {
    "name": "ipython",
    "version": 3
   },
   "file_extension": ".py",
   "mimetype": "text/x-python",
   "name": "python",
   "nbconvert_exporter": "python",
   "pygments_lexer": "ipython3",
   "version": "3.6.2"
  }
 },
 "nbformat": 4,
 "nbformat_minor": 2
}
