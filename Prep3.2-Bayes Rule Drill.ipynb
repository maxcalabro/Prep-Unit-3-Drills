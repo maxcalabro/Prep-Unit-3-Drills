{
 "cells": [
  {
   "cell_type": "markdown",
   "metadata": {},
   "source": [
    "98% True Positive\n",
    "10% False Positive\n",
    "0.5% of population\n",
    "\n",
    "1) \n",
    "P(Test will be positive) = .98 * .005 + .10 * .995 = .104 or 10%\n",
    "\n",
    "2) \n",
    "P(Correctly diagnose) = .005 * .98 + .90 * .995 = .9004 or 90%\n",
    "\n",
    "3) \n",
    "P(Correctly identify a non-sufferer) = .1 or 10%\n",
    "\n",
    "4) \n",
    "P(Misclassification) = .02 * .005 + .10 * .995 = .0996 or 10%\n",
    "\n",
    "Because the chance of having the disease is so low and the false positive is relatively high, most of these are  dominated by false positives rather than true positives.\n"
   ]
  },
  {
   "cell_type": "code",
   "execution_count": 1,
   "metadata": {},
   "outputs": [
    {
     "data": {
      "text/plain": [
       "0.1044"
      ]
     },
     "execution_count": 1,
     "metadata": {},
     "output_type": "execute_result"
    }
   ],
   "source": [
    ".98*.005 + .1*.995"
   ]
  },
  {
   "cell_type": "code",
   "execution_count": 2,
   "metadata": {},
   "outputs": [
    {
     "data": {
      "text/plain": [
       "0.9004"
      ]
     },
     "execution_count": 2,
     "metadata": {},
     "output_type": "execute_result"
    }
   ],
   "source": [
    ".005*.98 + .90*.995"
   ]
  },
  {
   "cell_type": "code",
   "execution_count": 3,
   "metadata": {},
   "outputs": [
    {
     "data": {
      "text/plain": [
       "0.09960000000000001"
      ]
     },
     "execution_count": 3,
     "metadata": {},
     "output_type": "execute_result"
    }
   ],
   "source": [
    ".02 * .005 + .1 * .995"
   ]
  },
  {
   "cell_type": "code",
   "execution_count": null,
   "metadata": {
    "collapsed": true
   },
   "outputs": [],
   "source": []
  }
 ],
 "metadata": {
  "kernelspec": {
   "display_name": "Python 3",
   "language": "python",
   "name": "python3"
  },
  "language_info": {
   "codemirror_mode": {
    "name": "ipython",
    "version": 3
   },
   "file_extension": ".py",
   "mimetype": "text/x-python",
   "name": "python",
   "nbconvert_exporter": "python",
   "pygments_lexer": "ipython3",
   "version": "3.6.2"
  }
 },
 "nbformat": 4,
 "nbformat_minor": 2
}
